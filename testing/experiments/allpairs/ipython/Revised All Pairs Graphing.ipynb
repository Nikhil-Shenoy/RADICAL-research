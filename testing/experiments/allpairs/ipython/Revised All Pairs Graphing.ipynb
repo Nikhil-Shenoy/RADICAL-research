{
 "metadata": {
  "name": "",
  "signature": "sha256:03b8469adad9e095cde0940c22567b2acaf0bad65f8a072f8cbb5f6a19c1e768"
 },
 "nbformat": 3,
 "nbformat_minor": 0,
 "worksheets": [
  {
   "cells": [
    {
     "cell_type": "code",
     "collapsed": false,
     "input": [
      "%matplotlib inline"
     ],
     "language": "python",
     "metadata": {},
     "outputs": [],
     "prompt_number": 23
    },
    {
     "cell_type": "code",
     "collapsed": false,
     "input": [
      "import numpy as np\n",
      "from pandas import *\n",
      "import matplotlib.pyplot as plt\n",
      "\n",
      "cores = [4,16,63,256];\n",
      "sets = [3,6,12,24];\n",
      "\n",
      "compTimes = np.matrix([[9.786754,19.9126155,58.296837667,207.206566],\n",
      "                       [8.6109845,19.0631985, 55.53990525,211.41041025],\n",
      "                       [10.89312875,21.98148775,61.56207225,217.202784],\n",
      "                       [9.70826325,21.40045625,104.46550275,392.02918975]])\n",
      "\n",
      "scriptTimes = np.matrix([[109.236855,119.09723,159.296520333,298.39545075],\n",
      "                         [90.97532775,100.670872,138.96890275,343.3128175],\n",
      "                         [187.027455,116.9632715,155.86821425,317.22562225],\n",
      "                         [99.98255875,122.04743025,221.50800625,535.6718415]])\n",
      "\n"
     ],
     "language": "python",
     "metadata": {},
     "outputs": [],
     "prompt_number": 24
    },
    {
     "cell_type": "code",
     "collapsed": false,
     "input": [
      "np.divide(compTimes,scriptTimes)"
     ],
     "language": "python",
     "metadata": {},
     "outputs": [
      {
       "metadata": {},
       "output_type": "pyout",
       "prompt_number": 25,
       "text": [
        "matrix([[ 0.08959205,  0.16719629,  0.36596429,  0.69440256],\n",
        "        [ 0.09465187,  0.18936161,  0.39965708,  0.61579527],\n",
        "        [ 0.05824347,  0.18793496,  0.39496232,  0.68469496],\n",
        "        [ 0.09709957,  0.17534541,  0.47161051,  0.7318458 ]])"
       ]
      }
     ],
     "prompt_number": 25
    },
    {
     "cell_type": "code",
     "collapsed": false,
     "input": [
      "ind = np.arange(4)"
     ],
     "language": "python",
     "metadata": {},
     "outputs": [],
     "prompt_number": 26
    },
    {
     "cell_type": "code",
     "collapsed": false,
     "input": [
      "percs = np.divide(compTimes,scriptTimes)"
     ],
     "language": "python",
     "metadata": {},
     "outputs": [],
     "prompt_number": 27
    },
    {
     "cell_type": "code",
     "collapsed": false,
     "input": [
      "percs[:,1]"
     ],
     "language": "python",
     "metadata": {},
     "outputs": [
      {
       "metadata": {},
       "output_type": "pyout",
       "prompt_number": 28,
       "text": [
        "matrix([[ 0.16719629],\n",
        "        [ 0.18936161],\n",
        "        [ 0.18793496],\n",
        "        [ 0.17534541]])"
       ]
      }
     ],
     "prompt_number": 28
    },
    {
     "cell_type": "code",
     "collapsed": false,
     "input": [
      "percs"
     ],
     "language": "python",
     "metadata": {},
     "outputs": [
      {
       "metadata": {},
       "output_type": "pyout",
       "prompt_number": 29,
       "text": [
        "matrix([[ 0.08959205,  0.16719629,  0.36596429,  0.69440256],\n",
        "        [ 0.09465187,  0.18936161,  0.39965708,  0.61579527],\n",
        "        [ 0.05824347,  0.18793496,  0.39496232,  0.68469496],\n",
        "        [ 0.09709957,  0.17534541,  0.47161051,  0.7318458 ]])"
       ]
      }
     ],
     "prompt_number": 29
    },
    {
     "cell_type": "code",
     "collapsed": false,
     "input": [
      "fig = plt.figure()\n",
      "ax1 = fig.add_subplot(2,2,1)\n",
      "ax2 = fig.add_subplot(2,2,2)\n",
      "ax3 = fig.add_subplot(2,2,3)\n",
      "ax4 = fig.add_subplot(2,2,4)\n",
      "\n",
      "axes = [ax1, ax2, ax3, ax4]\n",
      "\n",
      "for i in range(0,4):\n",
      "    vals = percs[:,i].ravel().tolist()\n",
      "    temp = vals[0]\n",
      "    real_data = []\n",
      "    for j in range(0,4):\n",
      "            real_data.append(temp[j])\n",
      "    \n",
      "    #real_data\n",
      "    #data = Series(real_data,index=[\"4\",\"16\",\"64\",\"256\"])\n",
      "    #data.plot(kind='bar',color='k', alpha=0.7)\n",
      "    axes[i].plot(real_data)\n",
      "\n",
      "pylab.xlim([\"4\",\"16\",\"64\",\"256\"])"
     ],
     "language": "python",
     "metadata": {},
     "outputs": [
      {
       "ename": "NameError",
       "evalue": "name 'pylab' is not defined",
       "output_type": "pyerr",
       "traceback": [
        "\u001b[1;31m---------------------------------------------------------------------------\u001b[0m\n\u001b[1;31mNameError\u001b[0m                                 Traceback (most recent call last)",
        "\u001b[1;32m<ipython-input-49-692e36f67551>\u001b[0m in \u001b[0;36m<module>\u001b[1;34m()\u001b[0m\n\u001b[0;32m     19\u001b[0m     \u001b[0maxes\u001b[0m\u001b[1;33m[\u001b[0m\u001b[0mi\u001b[0m\u001b[1;33m]\u001b[0m\u001b[1;33m.\u001b[0m\u001b[0mplot\u001b[0m\u001b[1;33m(\u001b[0m\u001b[0mreal_data\u001b[0m\u001b[1;33m)\u001b[0m\u001b[1;33m\u001b[0m\u001b[0m\n\u001b[0;32m     20\u001b[0m \u001b[1;33m\u001b[0m\u001b[0m\n\u001b[1;32m---> 21\u001b[1;33m \u001b[0mpylab\u001b[0m\u001b[1;33m.\u001b[0m\u001b[0mxlim\u001b[0m\u001b[1;33m(\u001b[0m\u001b[1;33m[\u001b[0m\u001b[1;34m\"4\"\u001b[0m\u001b[1;33m,\u001b[0m\u001b[1;34m\"16\"\u001b[0m\u001b[1;33m,\u001b[0m\u001b[1;34m\"64\"\u001b[0m\u001b[1;33m,\u001b[0m\u001b[1;34m\"256\"\u001b[0m\u001b[1;33m]\u001b[0m\u001b[1;33m)\u001b[0m\u001b[1;33m\u001b[0m\u001b[0m\n\u001b[0m",
        "\u001b[1;31mNameError\u001b[0m: name 'pylab' is not defined"
       ]
      },
      {
       "metadata": {},
       "output_type": "display_data",
       "png": "[encoded data removed]",
       "text": [
        "<matplotlib.figure.Figure at 0x48ff490>"
       ]
      }
     ],
     "prompt_number": 49
    }
   ],
   "metadata": {}
  }
 ]
}