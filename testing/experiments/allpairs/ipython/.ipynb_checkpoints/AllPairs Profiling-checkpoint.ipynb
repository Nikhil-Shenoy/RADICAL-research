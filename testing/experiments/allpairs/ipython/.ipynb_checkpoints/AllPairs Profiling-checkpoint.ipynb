{
 "metadata": {
  "name": "",
  "signature": "sha256:c00bf7a75d2ae04c12e38e2cc6b6d3c478a36c65722676575730edc596a288a5"
 },
 "nbformat": 3,
 "nbformat_minor": 0,
 "worksheets": [
  {
   "cells": [
    {
     "cell_type": "code",
     "collapsed": false,
     "input": [
      "%matplotlib inline"
     ],
     "language": "python",
     "metadata": {},
     "outputs": [],
     "prompt_number": 1
    },
    {
     "cell_type": "code",
     "collapsed": false,
     "input": [
      "import numpy as np\n",
      "import matplotlib.pyplot as plt"
     ],
     "language": "python",
     "metadata": {},
     "outputs": [],
     "prompt_number": 6
    },
    {
     "cell_type": "code",
     "collapsed": false,
     "input": [
      "cores = [4,16,64,256];"
     ],
     "language": "python",
     "metadata": {},
     "outputs": [],
     "prompt_number": 7
    },
    {
     "cell_type": "code",
     "collapsed": false,
     "input": [
      "data = np.matrix([[9.78675475, 8.6109845, 10.89312875, 9.70826325],\n",
      "                 [19.9126155, 19.0631985, 21.40045625, 21.98148775],\n",
      "                 [58.2968376667, 55.53990525, 61.56207225, 104.46550275],\n",
      "                 [207.206566, 211.41041025, 217.202784, 392.02918975]])"
     ],
     "language": "python",
     "metadata": {},
     "outputs": [],
     "prompt_number": 21
    },
    {
     "cell_type": "code",
     "collapsed": false,
     "input": [
      "data"
     ],
     "language": "python",
     "metadata": {},
     "outputs": [
      {
       "metadata": {},
       "output_type": "pyout",
       "prompt_number": 22,
       "text": [
        "matrix([[   9.78675475,    8.6109845 ,   10.89312875,    9.70826325],\n",
        "        [  19.9126155 ,   19.0631985 ,   21.40045625,   21.98148775],\n",
        "        [  58.29683767,   55.53990525,   61.56207225,  104.46550275],\n",
        "        [ 207.206566  ,  211.41041025,  217.202784  ,  392.02918975]])"
       ]
      }
     ],
     "prompt_number": 22
    },
    {
     "cell_type": "code",
     "collapsed": false,
     "input": [
      "data\n",
      "set3times = data[0,:]\n",
      "set6times = data[1,:]\n",
      "set12times = data[2,:]\n",
      "set24times = data[3,:]\n",
      "core4times = data[:,0]\n",
      "core16times = data[:,1]\n",
      "core64times = data[:,2]\n",
      "core256times = data[:,3]"
     ],
     "language": "python",
     "metadata": {},
     "outputs": [],
     "prompt_number": 37
    },
    {
     "cell_type": "code",
     "collapsed": false,
     "input": [
      "sets = [3,6,12,24];"
     ],
     "language": "python",
     "metadata": {},
     "outputs": [],
     "prompt_number": 46
    },
    {
     "cell_type": "code",
     "collapsed": false,
     "input": [
      "a = np.squeeze(np.asarray(set3times)).tolist()\n",
      "a"
     ],
     "language": "python",
     "metadata": {},
     "outputs": [
      {
       "metadata": {},
       "output_type": "pyout",
       "prompt_number": 47,
       "text": [
        "[9.78675475, 8.6109845, 10.89312875, 9.70826325]"
       ]
      }
     ],
     "prompt_number": 47
    },
    {
     "cell_type": "code",
     "collapsed": false,
     "input": [
      "plt.plot(cores,a)"
     ],
     "language": "python",
     "metadata": {},
     "outputs": [
      {
       "metadata": {},
       "output_type": "pyout",
       "prompt_number": 48,
       "text": [
        "[<matplotlib.lines.Line2D at 0x3b97650>]"
       ]
      },
      {
       "metadata": {},
       "output_type": "display_data",
       "png": "[encoded data removed]",
       "text": [
        "<matplotlib.figure.Figure at 0x3bc5390>"
       ]
      }
     ],
     "prompt_number": 48
    },
    {
     "cell_type": "code",
     "collapsed": false,
     "input": [
      "graph1 = bar()"
     ],
     "language": "python",
     "metadata": {},
     "outputs": []
    }
   ],
   "metadata": {}
  }
 ]
}